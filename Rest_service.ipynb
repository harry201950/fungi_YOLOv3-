{
 "cells": [
  {
   "cell_type": "code",
   "execution_count": 1,
   "id": "b3ce5991-2d84-4bfa-9c1f-0f1b5e5a07bb",
   "metadata": {},
   "outputs": [],
   "source": [
    "import cv2"
   ]
  },
  {
   "cell_type": "markdown",
   "id": "c4f9dcc0-1823-4aa5-b551-106ccb6a1fac",
   "metadata": {},
   "source": [
    "- 재배기 121번 정면 : rtsp://letsfarm01.iptime.org:12110/stream1 \n",
    "- 재배기 121번 사선 : rtsp://letsfarm01.iptime.org:12120/stream1 \n",
    "- 재배기 123번 정면 : rtsp://letsfarm01.iptime.org:12310/stream1 \n",
    "- 재배기 123번 사선 : rtsp://letsfarm01.iptime.org:12320/stream1"
   ]
  },
  {
   "cell_type": "code",
   "execution_count": null,
   "id": "b4be04e6-95e7-4485-8319-8b9ca7e35ba5",
   "metadata": {},
   "outputs": [],
   "source": [
    "vid = cv2.VideoCapture(\"..\")\n",
    "while True:\n",
    "    ret, frame = vid.read()\n",
    "    if not ret:\n",
    "        print('Video has ended or failed, try a different video format!')\n",
    "        break\n",
    "\n",
    "    cv2.imshow(\"Image\", frame)\n",
    "    \n",
    "    if cv2.waitKey(1)&0xFF == 27: # ESC\n",
    "        break \n",
    "\n",
    "cv2.waitKey()\n",
    "cv2.destroyAllWindows()"
   ]
  },
  {
   "cell_type": "code",
   "execution_count": null,
   "id": "32ef3fe6-28ca-4661-8db7-3dce529e891e",
   "metadata": {},
   "outputs": [],
   "source": []
  }
 ],
 "metadata": {
  "kernelspec": {
   "display_name": "Python 3 (ipykernel)",
   "language": "python",
   "name": "python3"
  },
  "language_info": {
   "codemirror_mode": {
    "name": "ipython",
    "version": 3
   },
   "file_extension": ".py",
   "mimetype": "text/x-python",
   "name": "python",
   "nbconvert_exporter": "python",
   "pygments_lexer": "ipython3",
   "version": "3.8.13"
  }
 },
 "nbformat": 4,
 "nbformat_minor": 5
}
